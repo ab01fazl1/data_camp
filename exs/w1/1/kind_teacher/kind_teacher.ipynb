{
 "cells": [
  {
   "attachments": {},
   "cell_type": "markdown",
   "metadata": {
    "pycharm": {
     "name": "#%% md\n"
    }
   },
   "source": [
    "<h1 align=center style=\"line-height:200%;font-family:vazir;color:#0099cc\">\n",
    "<font face=\"vazir\" color=\"#0099cc\">\n",
    "استاد مهربان\n",
    "</font>\n",
    "</h1>"
   ]
  },
  {
   "attachments": {},
   "cell_type": "markdown",
   "metadata": {
    "pycharm": {
     "name": "#%% md\n"
    }
   },
   "source": [
    "<p dir=rtl style=\"direction: rtl; text-align: justify; line-height:200%; font-family:vazir; font-size:medium\">\n",
    "<font face=\"vazir\" size=3>\n",
    "در این تمرین می‌خواهیم مقدمات کار با کتابخانه‌ی <code>numpy</code> را با هم تمرین کنیم.\n",
    "</font>\n",
    "</p>"
   ]
  },
  {
   "cell_type": "code",
   "execution_count": 15,
   "metadata": {
    "pycharm": {
     "name": "#%%\n"
    }
   },
   "outputs": [],
   "source": [
    "import numpy as np"
   ]
  },
  {
   "attachments": {},
   "cell_type": "markdown",
   "metadata": {
    "pycharm": {
     "name": "#%% md\n"
    }
   },
   "source": [
    "<p dir=rtl style=\"direction: rtl; text-align: justify; line-height:200%; font-family:vazir; font-size:medium\">\n",
    "<font face=\"vazir\" size=3>\n",
    "آرایه‌ی زیر را که شامل نمرات ۱۰۰ دانشجوی مختلف در درس ریاضی ۱ است در نظر بگیرید. لازم به ذکر است که داده‌ها واقعی نیستند.\n",
    "</font>\n",
    "</p>"
   ]
  },
  {
   "cell_type": "code",
   "execution_count": 16,
   "metadata": {
    "pycharm": {
     "name": "#%%\n"
    }
   },
   "outputs": [],
   "source": [
    "grades = np.array([ 3. , 17. ,  6.5,  0.5,  8. ,  6.5, 19. , 13.5,  2.5, 17. , 19. ,\n",
    "                   19.5, 13. ,  0. ,  6. ,  0.5,  9.5, 13.5, 16. ,  2.5, 10.5,  8. ,\n",
    "                   10. , 15.5,  7.5,  0. ,  1. , 10.5,  2. , 11. ,  3. , 14. ,  3.5,\n",
    "                   18.5, 13. ,  1. , 14.5, 15. ,  1. , 15.5,  1.5,  2. ,  3.5,  6.5,\n",
    "                   2.5, 14.5, 11.5,  8. ,  0. ,  5.5,  0.5, 20. ,  5. ,  0.5, 17.5,\n",
    "                   17.5, 17.5, 15. ,  4.5, 17. , 18. , 10. ,  8.5, 14. , 18.5, 19.5,\n",
    "                   16. ,  8.5,  0. ,  9.5,  6. ,  2. ,  5. ,  9.5,  4. ,  4. ,  1. ,\n",
    "                   8. , 18.5, 18. , 15.5,  4.5,  1.5, 20. ,  0.5, 19. ,  4. ,  9.5,\n",
    "                   13. , 10. ,  3.5,  1.5,  6.5,  0.5, 11.5, 17. , 13.5, 11.5, 13. ,\n",
    "                   13. ])"
   ]
  },
  {
   "attachments": {},
   "cell_type": "markdown",
   "metadata": {
    "pycharm": {
     "name": "#%% md\n"
    }
   },
   "source": [
    "<p dir=rtl style=\"direction: rtl; text-align: justify; line-height:200%; font-family:vazir; font-size:medium\">\n",
    "<font face=\"vazir\" size=3>\n",
    "بعد از ثبت نمرات، استاد درس تصمیم می‌گیرد که به دانشجویان ارفاقی انجام دهد. فرض کنید <code>x</code>، نمره‌ی اصلی و <code>y</code> نمره‌ی ارفاق‌شده‌ی شخص است. در این‌صورت:\n",
    "</font>\n",
    "</p>\n",
    "\n",
    "<p dir=rtl style=\"direction: rtl; text-align: justify; line-height:200%; font-family:vazir; font-size:medium\">\n",
    "<font face=\"vazir\" size=3>\n",
    "۱. اگر نمره‌ی شخص کمتر از ۷ است، آنگاه:\n",
    "</font>\n",
    "</p>\n",
    "\n",
    "$$ y = 9 + \\frac{x}{10} $$\n",
    "\n",
    "<p dir=rtl style=\"direction: rtl; text-align: justify; line-height:200%; font-family:vazir; font-size:medium\">\n",
    "<font face=\"vazir\" size=3>\n",
    "۲. اگر نمره‌ی شخص بیشتر یا مساوی ۷ است، آنگاه:\n",
    "</font>\n",
    "</p>\n",
    "\n",
    "$$ y =  -0.0047x^{2} + 0.9571x + 3.5333 $$\n",
    "\n",
    "<p dir=rtl style=\"direction: rtl; text-align: justify; line-height:200%; font-family:vazir; font-size:medium\">\n",
    "<font face=\"vazir\" size=3>\n",
    "حال طبق این فرمول‌ها نمرات جدید را محاسبه کرده و در همان آرایه‌ی <code>grades</code> ذخیره کنید.\n",
    "</font>\n",
    "</p>"
   ]
  },
  {
   "attachments": {},
   "cell_type": "markdown",
   "metadata": {
    "pycharm": {
     "name": "#%% md\n"
    }
   },
   "source": [
    "<p dir=rtl style=\"direction: rtl; text-align: justify; line-height:200%; font-family:vazir; font-size:medium\">\n",
    "<font face=\"vazir\" size=3 color=\"red\">\n",
    "توجه:\n",
    "</font>\n",
    "<font face=\"vazir\" size=3>\n",
    "بیشینه‌ی نمره، عدد ۲۰ است. بنابراین اگر نمره‌ای بیشتر از ۲۰ شود باید همان ۲۰ منظور شود.\n",
    "</font>\n",
    "<br>\n",
    "<font face=\"vazir\" size=3 color=\"orange\">\n",
    "نکته:\n",
    "</font>\n",
    "<font face=\"vazir\" size=3>\n",
    "فرمول‌های بالا برگرفته از فرمول به کار رفته برای درس ریاضی ۱ دانشگاه شریف در سال ۱۳۹۷ است.\n",
    "</font>\n",
    "<br>\n",
    "<font face=\"vazir\" size=3 color=\"green\">\n",
    "راهنمایی:\n",
    "</font>\n",
    "<font face=\"vazir\" size=3>\n",
    "توجه کنید که نمره‌ی جدید همه‌ی اشخاصی که نمره‌ی اصلی‌شان کمتر از ۷ بوده، از همه‌ی اشخاصی که نمره‌ی اصلی‌شان بیشتر از ۷ بوده کمتر می‌شود.\n",
    "</font>\n",
    "</p>"
   ]
  },
  {
   "cell_type": "code",
   "execution_count": 17,
   "metadata": {
    "pycharm": {
     "name": "#%%\n"
    }
   },
   "outputs": [
    {
     "name": "stdout",
     "output_type": "stream",
     "text": [
      "[9.3, 18.4457, 9.65, 9.05, 10.8893, 9.65, 20.0, 15.597575, 9.25, 18.4457, 20.0, 20.0, 15.1813, 9.0, 9.6, 9.05, 12.201575, 15.597575, 17.6437, 9.25, 13.064675000000001, 10.8893, 12.6343, 17.239175, 10.447175, 9.0, 9.1, 13.064675000000001, 9.2, 13.492700000000001, 9.3, 16.011499999999998, 9.35, 19.631075, 15.1813, 9.1, 16.423074999999997, 16.8323, 9.1, 17.239175, 9.15, 9.2, 9.35, 9.65, 9.25, 16.423074999999997, 13.918375, 10.8893, 9.0, 9.55, 9.05, 20.0, 9.5, 9.05, 18.843175, 18.843175, 18.843175, 16.8323, 9.45, 18.4457, 19.2383, 12.6343, 11.329075, 16.011499999999998, 19.631075, 20.0, 17.6437, 11.329075, 9.0, 12.201575, 9.6, 9.2, 9.5, 12.201575, 9.4, 9.4, 9.1, 10.8893, 19.631075, 19.2383, 17.239175, 9.45, 9.15, 20.0, 9.05, 20.0, 9.4, 12.201575, 15.1813, 12.6343, 9.35, 9.15, 9.65, 9.05, 13.918375, 18.4457, 15.597575, 13.918375, 15.1813, 15.1813]\n"
     ]
    }
   ],
   "source": [
    "# To-Do: i can write a map function to go through each element and then calculate the formula\n",
    "def calculate(x):\n",
    "    result = 0\n",
    "    if x < 7:\n",
    "        return 9+(x/10)\n",
    "    else:\n",
    "        result = -(0.0047*x**2) + (0.9571*x) + 3.5333\n",
    "        if result > 20: result = 20\n",
    "        return result\n",
    "grades = np.array(list(map(calculate, list(grades))))\n",
    "print(list(grades))"
   ]
  },
  {
   "attachments": {},
   "cell_type": "markdown",
   "metadata": {
    "pycharm": {
     "name": "#%% md\n"
    }
   },
   "source": [
    "<p dir=rtl style=\"direction: rtl; text-align: justify; line-height:200%; font-family:vazir; font-size:medium\">\n",
    "<font face=\"vazir\" size=3>\n",
    "حال از بین نمرات جدید، آن‌هایی را که بیشتر یا مساوی ۱۷ شده‌اند در آرایه‌ی <code>top_grades</code> ذخیره کنید.\n",
    "</font>\n",
    "</p>"
   ]
  },
  {
   "cell_type": "code",
   "execution_count": 25,
   "metadata": {
    "pycharm": {
     "name": "#%%\n"
    }
   },
   "outputs": [
    {
     "data": {
      "text/plain": "array([18.4457  , 20.      , 18.4457  , 20.      , 20.      , 17.6437  ,\n       17.239175, 19.631075, 17.239175, 20.      , 18.843175, 18.843175,\n       18.843175, 18.4457  , 19.2383  , 19.631075, 20.      , 17.6437  ,\n       19.631075, 19.2383  , 17.239175, 20.      , 20.      , 18.4457  ])"
     },
     "execution_count": 25,
     "metadata": {},
     "output_type": "execute_result"
    }
   ],
   "source": [
    "top_grades = grades[grades >= 17]\n",
    "top_grades"
   ]
  },
  {
   "attachments": {},
   "cell_type": "markdown",
   "metadata": {
    "pycharm": {
     "name": "#%% md\n"
    }
   },
   "source": [
    "<p dir=rtl style=\"direction: rtl; text-align: justify; line-height:200%; font-family:vazir; font-size:medium\">\n",
    "<font face=\"vazir\" size=3>\n",
    "اکنون پنج درایه‌ی اول این آرایه را به‌عنوان نمونه در آرایه‌ی <code>five_samples</code> ذخیره کنید.\n",
    "</font>\n",
    "</p>"
   ]
  },
  {
   "cell_type": "code",
   "execution_count": 23,
   "metadata": {
    "pycharm": {
     "name": "#%%\n"
    }
   },
   "outputs": [
    {
     "name": "stdout",
     "output_type": "stream",
     "text": [
      "[18.4457 20.     18.4457 20.     20.    ]\n"
     ]
    }
   ],
   "source": [
    "five_samples = top_grades[:5]"
   ]
  },
  {
   "attachments": {},
   "cell_type": "markdown",
   "metadata": {
    "pycharm": {
     "name": "#%% md\n"
    }
   },
   "source": [
    "<p dir=rtl style=\"direction: rtl; text-align: justify; line-height:200%; font-family:vazir; font-size:medium\">\n",
    "<font face=\"vazir\" size=3>\n",
    "با اجرای دستور زیر، آرایه‌های ساخته‌شده در فایلی به نام <code>answers.npz</code> ذخیره می‌شود.\n",
    "</font>\n",
    "</p>"
   ]
  },
  {
   "cell_type": "code",
   "execution_count": 27,
   "metadata": {
    "pycharm": {
     "name": "#%%\n"
    }
   },
   "outputs": [],
   "source": [
    "np.savez(\"answers.npz\", grades = grades,top_grades = top_grades, five_samples = five_samples)"
   ]
  },
  {
   "attachments": {},
   "cell_type": "markdown",
   "metadata": {
    "pycharm": {
     "name": "#%% md\n"
    }
   },
   "source": [
    "<h2 align=right style=\"line-height:200%;font-family:vazir;color:#0099cc\">\n",
    "<font face=\"vazir\" color=\"#0099cc\">\n",
    "<b>سلول جواب‌ساز</b>\n",
    "</font>\n",
    "</h2>\n",
    "\n",
    "<p dir=rtl style=\"direction: rtl; text-align: justify; line-height:200%; font-family:vazir; font-size:medium\">\n",
    "<font face=\"vazir\" size=3>\n",
    "    برای ساخته‌شدن فایل <code>result.zip</code> سلول زیر را اجرا کنید. توجه داشته باشید که پیش از اجرای سلول زیر تغییرات اعمال شده در نت‌بوک را ذخیره کرده باشید (<code>ctrl+s</code>) تا در صورت نیاز به راهنمایی امکان بررسی کد شما وجود داشته باشد.\n",
    "</font>\n",
    "</p>"
   ]
  },
  {
   "cell_type": "code",
   "execution_count": 28,
   "metadata": {
    "pycharm": {
     "name": "#%%\n"
    }
   },
   "outputs": [
    {
     "name": "stdout",
     "output_type": "stream",
     "text": [
      "File Paths:\n",
      "['answers.npz', 'kind_teacher.ipynb']\n"
     ]
    }
   ],
   "source": [
    "import zlib\n",
    "import zipfile\n",
    "\n",
    "\n",
    "def compress(file_names):\n",
    "    print(\"File Paths:\")\n",
    "    print(file_names)\n",
    "    compression = zipfile.ZIP_DEFLATED\n",
    "    with zipfile.ZipFile(\"result.zip\", mode=\"w\") as zf:\n",
    "        for file_name in file_names:\n",
    "            zf.write('./' + file_name, file_name, compress_type=compression)\n",
    "\n",
    "file_names = [\"answers.npz\", \"kind_teacher.ipynb\"]\n",
    "compress(file_names)"
   ]
  },
  {
   "cell_type": "code",
   "execution_count": null,
   "outputs": [],
   "source": [],
   "metadata": {
    "collapsed": false,
    "pycharm": {
     "name": "#%%\n"
    }
   }
  }
 ],
 "metadata": {
  "kernelspec": {
   "display_name": "quera",
   "language": "python",
   "name": "python3"
  },
  "language_info": {
   "codemirror_mode": {
    "name": "ipython",
    "version": 3
   },
   "file_extension": ".py",
   "mimetype": "text/x-python",
   "name": "python",
   "nbconvert_exporter": "python",
   "pygments_lexer": "ipython3",
   "version": "3.9.7"
  },
  "vscode": {
   "interpreter": {
    "hash": "6a29b8f2e1e8b11f80c3820468461bcdbea6564508a235f61a46eeb59d48b308"
   }
  }
 },
 "nbformat": 4,
 "nbformat_minor": 2
}