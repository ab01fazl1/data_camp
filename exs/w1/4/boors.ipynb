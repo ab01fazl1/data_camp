{
 "cells": [
  {
   "cell_type": "markdown",
   "metadata": {
    "pycharm": {
     "name": "#%% md\n"
    }
   },
   "source": [
    "<h1 align=center style=\"line-height:200%;font-family:vazir;color:#0099cc\">\n",
    "<font face=\"vazir\" color=\"#0099cc\">\n",
    "بورس ایران\n",
    "\n",
    "</font>\n",
    "</h1>\n"
   ]
  },
  {
   "cell_type": "markdown",
   "metadata": {
    "pycharm": {
     "name": "#%% md\n"
    }
   },
   "source": [
    "<p dir=rtl style=\"direction: rtl;text-align: right;line-height:200%;font-family:vazir;font-size:medium\">\n",
    "<font face=\"vazir\" size=3>\n",
    "در این سوال قرار است با داده های واقعی بورس ایران به چند مسئله پاسخ دهید.\n",
    "</font>\n",
    "</p>\n"
   ]
  },
  {
   "cell_type": "markdown",
   "metadata": {
    "pycharm": {
     "name": "#%% md\n"
    }
   },
   "source": [
    "<h2 align=right style=\"line-height:200%;font-family:vazir;color:#0099cc\">\n",
    "<font face=\"vazir\" color=\"#0099cc\">\n",
    "قسمت اول\n",
    "<br>\n",
    "محاسبه حداکثر افت سرمایه در بازه سه سال\n",
    "</font>\n",
    "</h2>\n",
    "\n",
    "<p dir=rtl style=\"direction: rtl;text-align: right;line-height:200%;font-family:vazir;font-size:medium\">\n",
    "<font face=\"vazir\" size=3>\n",
    "طبق گفته سایت investopedia تعریف  <a href=\"https://www.investopedia.com/terms/m/maximum-drawdown-mdd.asp\">Maximum DarwDown</a> به صورت زیر است : \n",
    "<br>\n",
    "Maximum DrawDown (MDD) یا همان حداکثر افت سرمایه مقدار حداکثر افت سرمایه از یک قله تا \n",
    "<b>\n",
    "کف بعد از آن\n",
    "</b>\n",
    " قله است قبل از این که قله جدیدی تشکیل شود.\n",
    "<br>\n",
    "حداکثر افت سرمایه نشانگر ریسک نزولی در یک بازه زمانی مشخص است.\n",
    "</font>\n",
    "</p>\n",
    "\n"
   ]
  },
  {
   "cell_type": "markdown",
   "metadata": {
    "pycharm": {
     "name": "#%% md\n"
    }
   },
   "source": [
    "$ MDD = \\frac{Trough Value - Peak Value}{Peak Value} $"
   ]
  },
  {
   "cell_type": "markdown",
   "metadata": {
    "pycharm": {
     "name": "#%% md\n"
    }
   },
   "source": [
    "<p dir=rtl style=\"direction: rtl;text-align: right;line-height:200%;font-family:vazir;font-size:medium\">\n",
    "<font face=\"vazir\" size=3>\n",
    "در این قسمت شما داده های سهام فولاد در بورس ایران را دریافت میکنید و باید میزان حداکثر افت سرمایه را از تاریخ 01-01-2020 تا تاریخ 01-01-2023 را بدست بیاورید و تا دو رقم اعشار رند کنید و در  <code>MDD</code> قرار دهید.\n",
    "<br>\n",
    "خروجی شما باید عددی اعشاری بین صفر و یک با علامت منفی باشد و نوع داده شما باید float باشد.\n",
    "<br>\n",
    "برای محاسه <code>MDD</code> از ستون <code>adjClose</code> استفاده کنید.\n",
    "</font>\n",
    "</p>"
   ]
  },
  {
   "cell_type": "code",
   "execution_count": 14,
   "metadata": {
    "pycharm": {
     "name": "#%%\n"
    }
   },
   "outputs": [],
   "source": [
    "import pandas as pd\n",
    "import numpy as np"
   ]
  },
  {
   "cell_type": "code",
   "execution_count": 38,
   "metadata": {
    "pycharm": {
     "name": "#%%\n"
    }
   },
   "outputs": [
    {
     "data": {
      "text/plain": [
       "2805    5524.0\n",
       "2806    5715.0\n",
       "2807    3976.0\n",
       "2808    3974.0\n",
       "2809    3926.0\n",
       "         ...  \n",
       "3483    5880.0\n",
       "3484    6280.0\n",
       "3485    5970.0\n",
       "3486    5840.0\n",
       "3487    5980.0\n",
       "Name: adjClose, Length: 683, dtype: float64"
      ]
     },
     "execution_count": 38,
     "metadata": {},
     "output_type": "execute_result"
    }
   ],
   "source": [
    "# read the data\n",
    "# read فولاد.csv for this part\n",
    "foolad_df = pd.read_csv('فولاد.csv')\n",
    "adj_close = foolad_df['adjClose'][2806:3488]"
   ]
  },
  {
   "cell_type": "code",
   "execution_count": 39,
   "metadata": {
    "pycharm": {
     "name": "#%%\n"
    }
   },
   "outputs": [
    {
     "data": {
      "text/plain": [
       "-0.82"
      ]
     },
     "execution_count": 39,
     "metadata": {},
     "output_type": "execute_result"
    }
   ],
   "source": [
    "# calculate the MDD\n",
    "def max_drawdown(arr: pd.Series) -> int:\n",
    "    return np.min(arr / arr.expanding().max()) - 1\n",
    "MDD = float(round(max_drawdown(adj_close),2))"
   ]
  },
  {
   "cell_type": "markdown",
   "metadata": {
    "pycharm": {
     "name": "#%% md\n"
    }
   },
   "source": [
    "<h2 align=right style=\"line-height:200%;font-family:vazir;color:#0099cc\">\n",
    "<font face=\"vazir\" color=\"#0099cc\">\n",
    "قسمت دوم\n",
    "<br>\n",
    "کندل های حجمی\n",
    "</font>\n",
    "</h2>\n",
    "<p dir=rtl style=\"direction: rtl;text-align: right;line-height:200%;font-family:vazir;font-size:medium\">\n",
    "<font face=\"vazir\" size=3>\n",
    "  کندل های حجمی یا <a href=\"https://towardsdatascience.com/advanced-candlesticks-for-machine-learning-ii-volume-and-dollar-bars-6cda27e3201d\">volume bars</a> \n",
    "آن دسته از کندل هایی هستن که بر اساس حجم هستند.\n",
    "<br>\n",
    "در کندل های زمانی در یک بازه زمانی مشخص ریز معاملات را بررسی میکنند و قیمت شروع کننده رو به عنوان Open Price در نظر میگرند و قیمت آخر را به عنوان Close Price در نظر میگیرن و بالاترین و پایین ترین قیمت را به ترتیب به عنوان High و Low در نظر میگیرند و همچنین مجموع حجم آن روز را به عنوان volume در نظر گرفته میشود.\n",
    "<br>\n",
    "نمونه های کندل های زمانی را در قسمت قبل دیدید که در یک بازه یک روزه ریز معاملات را بررسی کرده اند.\n",
    "<br>\n",
    "در کندل های حجمی نیز شما به همین سبک عمل کرده ولی زمان برای شما مهم نمیباشد بلکه به ازای یک مقدار مشخص حجم که در این سوال برای شما 400000 در نظر گرفته شده است کندل های حجمی را تشکیل میدهیم.\n",
    "<br>\n",
    "در این سوال به شما ریز معاملات یک روز معاملاتی سهام فولاد داده شده است شما باید هر موقع مجموع حجم ریزمعاملات به عدد 400000 رسید یک کندل (یک ردیف در دیتا فریم) تشکیل دهید و تمام پارامتر ها را (Open Price,Close Price,...) باید در نظر بگیرید.\n",
    "<br>\n",
    "5 خط اول خروجی شما باید به شکل زیر باشد.\n",
    "<br>\n",
    "خروجی خود را در <code>volume_bars</code> ذخیر کنید.\n",
    "<br>\n",
    "hint : برای این سوال باید از iteration استفاده کنید.\n",
    "</font>\n",
    "</p>\n"
   ]
  },
  {
   "cell_type": "markdown",
   "metadata": {
    "pycharm": {
     "name": "#%% md\n"
    }
   },
   "source": [
    "|    |   open |   high |   low |   close |   volume |\n",
    "|---:|-------:|-------:|------:|--------:|---------:|\n",
    "|  0 |   6260 |   6260 |  6260 |    6260 |   419476 |\n",
    "|  1 |   6260 |   6260 |  6240 |    6240 |   403936 |\n",
    "|  2 |   6240 |   6240 |  6220 |    6220 |   409206 |\n",
    "|  3 |   6220 |   6240 |  6220 |    6220 |   401274 |\n",
    "|  4 |   6220 |   6230 |  6210 |    6230 |   412543 |"
   ]
  },
  {
   "cell_type": "code",
   "execution_count": 21,
   "metadata": {
    "pycharm": {
     "name": "#%%\n"
    }
   },
   "outputs": [],
   "source": [
    "# read the data\n",
    "# read ریزمعاملات_فولاد.csv for this part\n",
    "foolad_detailed_df = pd.read_csv('ریزمعاملات_فولاد.csv')"
   ]
  },
  {
   "cell_type": "code",
   "execution_count": 41,
   "metadata": {
    "pycharm": {
     "name": "#%%\n"
    }
   },
   "outputs": [],
   "source": [
    "# calculate volume bars dataframe\n",
    "rows = []\n",
    "volumes = []\n",
    "start = 0\n",
    "for i, j in foolad_detailed_df.iterrows():\n",
    "    volumes.append(j['volume'])\n",
    "    if sum(volumes) >= 400000:\n",
    "        rows.append({\n",
    "            'open':foolad_detailed_df.price[start],\n",
    "            'high':foolad_detailed_df.price[start+1:i].max(),\n",
    "            'low':foolad_detailed_df.price[start:i].min(),\n",
    "            'close':foolad_detailed_df.price[i],\n",
    "            'volume':int(sum(volumes))\n",
    "         })\n",
    "#         if sum(volumes) > 400000:\n",
    "#             start = i + 1\n",
    "#         else:\n",
    "#             start = i\n",
    "        start = i\n",
    "        volumes = []\n",
    "\n",
    "volume_bars = pd.DataFrame(data=rows)\n",
    "volume_bars.reset_index(drop=True,inplace=True)"
   ]
  },
  {
   "cell_type": "markdown",
   "metadata": {
    "pycharm": {
     "name": "#%% md\n"
    }
   },
   "source": [
    "<h2 align=right style=\"line-height:200%;font-family:vazir;color:#0099cc\">\n",
    "سلول جواب‌ساز\n",
    "</h2>"
   ]
  },
  {
   "cell_type": "code",
   "execution_count": 42,
   "metadata": {
    "pycharm": {
     "name": "#%%\n"
    }
   },
   "outputs": [
    {
     "name": "stdout",
     "output_type": "stream",
     "text": [
      "File Paths:\n",
      "['MDD', 'volume_bars.csv', 'boors.ipynb']\n"
     ]
    }
   ],
   "source": [
    "import zipfile\n",
    "import joblib\n",
    "\n",
    "joblib.dump(MDD,\"MDD\")\n",
    "volume_bars.to_csv('./volume_bars.csv', index=False)\n",
    "\n",
    "\n",
    "def compress(file_names):\n",
    "    print(\"File Paths:\")\n",
    "    print(file_names)\n",
    "    # Select the compression mode ZIP_DEFLATED for compression\n",
    "    # or zipfile.ZIP_STORED to just store the file\n",
    "    compression = zipfile.ZIP_DEFLATED\n",
    "    # create the zip file first parameter path/name, second mode\n",
    "    with zipfile.ZipFile(\"result.zip\", mode=\"w\") as zf:\n",
    "        for file_name in file_names:\n",
    "            # Add file to the zip file\n",
    "            # first parameter file to zip, second filename in zip\n",
    "            zf.write('./' + file_name, file_name, compress_type=compression)\n",
    "\n",
    "\n",
    "file_names = [\"MDD\" , \"volume_bars.csv\" , \"boors.ipynb\"]\n",
    "compress(file_names)"
   ]
  },
  {
   "cell_type": "code",
   "execution_count": null,
   "metadata": {},
   "outputs": [],
   "source": []
  },
  {
   "cell_type": "code",
   "execution_count": null,
   "metadata": {
    "pycharm": {
     "name": "#%%\n"
    }
   },
   "outputs": [],
   "source": []
  }
 ],
 "metadata": {
  "kernelspec": {
   "display_name": "Python 3 (ipykernel)",
   "language": "python",
   "name": "python3"
  },
  "language_info": {
   "codemirror_mode": {
    "name": "ipython",
    "version": 3
   },
   "file_extension": ".py",
   "mimetype": "text/x-python",
   "name": "python",
   "nbconvert_exporter": "python",
   "pygments_lexer": "ipython3",
   "version": "3.11.2"
  },
  "vscode": {
   "interpreter": {
    "hash": "e57ec916339251f7d5054c1ee3072c8a2e71b1834136959865747906e3e282df"
   }
  }
 },
 "nbformat": 4,
 "nbformat_minor": 2
}
