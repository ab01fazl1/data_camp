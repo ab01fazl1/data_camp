{
 "cells": [
  {
   "attachments": {},
   "cell_type": "markdown",
   "metadata": {},
   "source": [
    "<h1 align=center style=\"line-height:200%;font-family:vazir;color:#0099cc\">\n",
    "<font face=\"vazir\" color=\"#0099cc\">\n",
    "سکه‌ی ناشناخته</font>\n",
    "</h1>"
   ]
  },
  {
   "attachments": {},
   "cell_type": "markdown",
   "metadata": {},
   "source": [
    "<p dir=rtl style=\"direction: rtl;text-align: justify;line-height:200%;font-family:vazir;font-size:medium\">\n",
    "<font face=\"vazir\" size=3>\n",
    "برای حل این تمرین، شما باید تابع \n",
    "<code>solve</code>\n",
    "را پیاده‌سازی کنید و در نهایت با اجرای سلول جواب‌ساز، کد خود را سیو کنید.\n",
    "<br>\n",
    "<span style=\"color:purple\"><b>توجه مهم:  </b></span>\n",
    "برای حل این تمرین، تنها از لایبرری‌هایی می‌توانید استفاده کنید که در تابع \n",
    "<code>import</code>\n",
    "شده‌اند. به هیچ وجه از لایبرری دیگری استفاده نکنید و ضمناً اسم لایبرری‌ها را نیز تغییر ندهید. در غیر این صورت، سیستم داوری نمی‌تواند کد شما را داوری کند.\n",
    "</font>\n",
    "</p>"
   ]
  },
  {
   "attachments": {},
   "cell_type": "markdown",
   "metadata": {},
   "source": [
    "<h2 align=right style=\"line-height:200%;font-family:vazir;color:#0099cc\">\n",
    "<font face=\"vazir\" color=\"#0099cc\">\n",
    "ورودی\n",
    "</font>\n",
    "</h2>"
   ]
  },
  {
   "attachments": {},
   "cell_type": "markdown",
   "metadata": {},
   "source": [
    "<p dir=rtl style=\"direction: rtl;text-align: justify;line-height:200%;font-family:vazir;font-size:medium\">\n",
    "<font face=\"vazir\" size=3>\n",
    "ورودی این تابع، یک آرایه خواهد بود که هر یک از اعداد، نشان‌دهنده‌ی یکی از آزمایش‌ها خواهد بود.\n",
    "</font>\n",
    "</p>"
   ]
  },
  {
   "attachments": {},
   "cell_type": "markdown",
   "metadata": {},
   "source": [
    "<h2 align=right style=\"line-height:200%;font-family:vazir;color:#0099cc\">\n",
    "<font face=\"vazir\" color=\"#0099cc\">\n",
    "خروجی\n",
    "</font>\n",
    "</h2>"
   ]
  },
  {
   "attachments": {},
   "cell_type": "markdown",
   "metadata": {},
   "source": [
    "<p dir=rtl style=\"direction: rtl;text-align: justify;line-height:200%;font-family:vazir;font-size:medium\">\n",
    "<font face=\"vazir\" size=3>\n",
    "خروجی تابع باید احتمال خط آمدن سکه باشد. دقت کنید که تفاوت پاسخ شما با جواب واقعی باید کمتر از \n",
    "<code>1e-2</code>\n",
    "باشد.\n",
    "</font>\n",
    "</p>"
   ]
  },
  {
   "cell_type": "code",
   "execution_count": 6,
   "metadata": {
    "ExecuteTime": {
     "start_time": "2023-05-10T07:36:49.531644Z",
     "end_time": "2023-05-10T07:36:49.538885Z"
    }
   },
   "outputs": [],
   "source": [
    "def solve(arr):\n",
    "    import numpy as np\n",
    "    total_tails = np.sum(arr)\n",
    "    total_tosses = len(arr) * 20\n",
    "    probability_tails = total_tails / total_tosses\n",
    "    return probability_tails"
   ]
  },
  {
   "cell_type": "code",
   "execution_count": 7,
   "metadata": {
    "ExecuteTime": {
     "start_time": "2023-05-10T07:36:51.245834Z",
     "end_time": "2023-05-10T07:36:51.261520Z"
    }
   },
   "outputs": [
    {
     "name": "stdout",
     "output_type": "stream",
     "text": [
      "0.5\n",
      "0.5\n",
      "1.0\n"
     ]
    }
   ],
   "source": [
    "# Here are some examples of how your outputs should look like\n",
    "# solve([10]) = 0.5\n",
    "# solve([0, 20]) = 0.5\n",
    "# solve([20, 20]) = 1.0\n",
    "print(solve([10]))\n",
    "print(solve([0, 20]))\n",
    "print(solve([20, 20]))"
   ]
  },
  {
   "attachments": {},
   "cell_type": "markdown",
   "metadata": {},
   "source": [
    "<h2 align=right style=\"line-height:200%;font-family:vazir;color:#0099cc\">\n",
    "<font face=\"vazir\" color=\"#0099cc\">\n",
    "<b>سلول جواب‌ساز</b>\n",
    "</font>\n",
    "</h2>\n",
    "\n",
    "\n",
    "<p dir=rtl style=\"direction: rtl; text-align: justify; line-height:200%; font-family:vazir; font-size:medium\">\n",
    "<font face=\"vazir\" size=3>\n",
    "    برای ساخته‌شدن فایل <code>result.zip</code> سلول زیر را اجرا کنید. توجه داشته باشید که پیش از اجرای سلول زیر تغییرات اعمال شده در نت‌بوک را ذخیره کرده باشید (<code>ctrl+s</code>) تا در صورت نیاز به پشتیبانی امکان بررسی کد شما وجود داشته باشد.\n",
    "</font>\n",
    "</p>\n",
    "\n"
   ]
  },
  {
   "cell_type": "code",
   "execution_count": 8,
   "metadata": {
    "ExecuteTime": {
     "start_time": "2023-05-10T07:37:14.009299Z",
     "end_time": "2023-05-10T07:37:14.016036Z"
    }
   },
   "outputs": [
    {
     "name": "stdout",
     "output_type": "stream",
     "text": [
      "The following commands were written to file `solve.py`:\n",
      "def solve(arr):\n",
      "    import numpy as np\n",
      "    total_tails = np.sum(arr)\n",
      "    total_tosses = len(arr) * 20\n",
      "    probability_tails = total_tails / total_tosses\n",
      "    return probability_tails\n",
      "\n",
      "File Paths:\n",
      "['solve.py', 'coin.ipynb']\n"
     ]
    }
   ],
   "source": [
    "import zipfile \n",
    "from inspect import getsource\n",
    "\n",
    "%save solve getsource(solve)\n",
    "\n",
    "def compress(file_names):\n",
    "    print(\"File Paths:\")\n",
    "    print(file_names)\n",
    "    # Select the compression mode ZIP_DEFLATED for compression\n",
    "    # or zipfile.ZIP_STORED to just store the file\n",
    "    compression = zipfile.ZIP_DEFLATED\n",
    "    # create the zip file first parameter path/name, second mode\n",
    "    with zipfile.ZipFile(\"result.zip\", mode=\"w\") as zf:\n",
    "        for file_name in file_names:\n",
    "            # Add file to the zip file\n",
    "            # first parameter file to zip, second filename in zip\n",
    "            zf.write('./' + file_name, file_name, compress_type=compression)\n",
    "\n",
    "file_names = [\"solve.py\", \"coin.ipynb\"]\n",
    "compress(file_names)"
   ]
  }
 ],
 "metadata": {
  "kernelspec": {
   "display_name": "qenv",
   "language": "python",
   "name": "python3"
  },
  "language_info": {
   "codemirror_mode": {
    "name": "ipython",
    "version": 3
   },
   "file_extension": ".py",
   "mimetype": "text/x-python",
   "name": "python",
   "nbconvert_exporter": "python",
   "pygments_lexer": "ipython3",
   "version": "3.9.13"
  },
  "orig_nbformat": 4
 },
 "nbformat": 4,
 "nbformat_minor": 2
}
