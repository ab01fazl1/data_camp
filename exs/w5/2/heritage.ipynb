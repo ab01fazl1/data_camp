{
 "cells": [
  {
   "attachments": {},
   "cell_type": "markdown",
   "metadata": {},
   "source": [
    "<h1 align=center style=\"line-height:200%;font-family:vazir;color:#0099cc\">\n",
    "<font face=\"vazir\" color=\"#0099cc\">\n",
    "ارث خانوادگی\n",
    "</font>\n",
    "</h1>"
   ]
  },
  {
   "attachments": {},
   "cell_type": "markdown",
   "metadata": {},
   "source": [
    "<p dir=rtl style=\"direction: rtl;text-align: justify;line-height:200%;font-family:vazir;font-size:medium\">\n",
    "<font face=\"vazir\" size=3>\n",
    "برای حل این تمرین، شما باید تابع \n",
    "<code>solve</code>\n",
    "را پیاده‌سازی کنید و در نهایت با اجرای سلول جواب‌ساز، کد خود را سیو کنید.\n",
    "<br>\n",
    "<span style=\"color:purple\"><b>توجه مهم:  </b></span>\n",
    "برای حل این تمرین، تنها از لایبرری‌هایی می‌توانید استفاده کنید که در تابع \n",
    "<code>import</code>\n",
    "شده‌اند. به هیچ وجه از لایبرری دیگری استفاده نکنید و ضمناً اسم لایبرری‌ها را نیز تغییر ندهید. در غیر این صورت، سیستم داوری نمی‌تواند کد شما را داوری کند.\n",
    "</font>\n",
    "</p>"
   ]
  },
  {
   "attachments": {},
   "cell_type": "markdown",
   "metadata": {},
   "source": [
    "<h2 align=right style=\"line-height:200%;font-family:vazir;color:#0099cc\">\n",
    "<font face=\"vazir\" color=\"#0099cc\">\n",
    "ورودی\n",
    "</font>\n",
    "</h2>"
   ]
  },
  {
   "attachments": {},
   "cell_type": "markdown",
   "metadata": {},
   "source": [
    "<p dir=rtl style=\"direction: rtl;text-align: justify;line-height:200%;font-family:vazir;font-size:medium\">\n",
    "<font face=\"vazir\" size=3>\n",
    "تابعی که شما پیاده‌سازی می‌کنید، سه ورودی دارد:\n",
    "<ul style=\"direction: rtl;text-align: justify;line-height:200%;font-family:vazir;font-size:medium\">\n",
    "<li>\n",
    "متغیر\n",
    "<code>n</code>\n",
    "که کل دارایی را نشان می‌دهد.\n",
    "</li>\n",
    "<li>\n",
    "آرایه‌ی سه عضوی \n",
    "<code>lows</code>\n",
    "که کمینه انتظار فرزندان را نشان می دهد.\n",
    "</li>\n",
    "<li>\n",
    "آرایه‌ی سه عضوی\n",
    "<code>highs</code>\n",
    "که بیشینه انتظار فرزندان را نشان می‌دهد.\n",
    "</li>\n",
    "</ul>\n",
    "</font>\n",
    "</p>"
   ]
  },
  {
   "attachments": {},
   "cell_type": "markdown",
   "metadata": {},
   "source": [
    "<h2 align=right style=\"line-height:200%;font-family:vazir;color:#0099cc\">\n",
    "<font face=\"vazir\" color=\"#0099cc\">\n",
    "خروجی\n",
    "</font>\n",
    "</h2>"
   ]
  },
  {
   "attachments": {},
   "cell_type": "markdown",
   "metadata": {},
   "source": [
    "<p dir=rtl style=\"direction: rtl;text-align: justify;line-height:200%;font-family:vazir;font-size:medium\">\n",
    "<font face=\"vazir\" size=3>\n",
    "خروجی شما یک \n",
    "<code>tuple</code>\n",
    "۴ عضوی خواهد بود که به ترتیب\n",
    "احتمال خواسته شده در صورت سوال و ۳ امیدریاضی خواسته شده را نشان می‌دهد. دقت کنید که تفاوت پاسخ شما با جواب واقعی باید کمتر از \n",
    "<code>1e-2</code>\n",
    "باشد.\n",
    "</font>\n",
    "</p>"
   ]
  },
  {
   "cell_type": "code",
   "execution_count": 19,
   "metadata": {
    "ExecuteTime": {
     "start_time": "2023-05-10T08:16:25.579125Z",
     "end_time": "2023-05-10T08:16:25.579125Z"
    }
   },
   "outputs": [],
   "source": [
    "def solve(n, lows, highs):\n",
    "    import numpy as np\n",
    "\n",
    "    probability, ex1, ex2, ex3 = None, None, None, None\n",
    "    return (probability, ex1, ex2, ex3)"
   ]
  },
  {
   "cell_type": "code",
   "execution_count": 20,
   "metadata": {
    "ExecuteTime": {
     "start_time": "2023-05-10T08:16:27.377300Z",
     "end_time": "2023-05-10T08:16:27.377300Z"
    }
   },
   "outputs": [
    {
     "name": "stdout",
     "output_type": "stream",
     "text": [
      "[0.0, 6.666666666666667, 6.666666666666667, 13.333333333333334, 6.666666666666667, 13.333333333333334, 13.333333333333334, 20.0]\n",
      "(1.0, 10.0)\n",
      "[0.0]\n",
      "(0.125, 0.0)\n",
      "[2.0, 3.0, 3.0, 3.0]\n",
      "(0.5, 2.75)\n"
     ]
    }
   ],
   "source": [
    "# Here are some examples of how your outputs should look like\n",
    "# solve(100, [0, 0, 0], [20, 20, 20]) = (1.0, 10.0, 10.0, 10.0)\n",
    "# solve(100, [0, 0, 0], [100, 100, 100]) = (0.16, 4.16, 4.16, 4.16)\n",
    "print(solve(100, [0, 0, 0], [20, 20, 20]))\n",
    "print(solve(100, [0, 0, 0], [100, 100, 100]))\n",
    "print(solve(10, [1, 2, 3], [4, 5, 6]))"
   ]
  },
  {
   "attachments": {},
   "cell_type": "markdown",
   "metadata": {},
   "source": [
    "<h2 align=right style=\"line-height:200%;font-family:vazir;color:#0099cc\">\n",
    "<font face=\"vazir\" color=\"#0099cc\">\n",
    "<b>سلول جواب‌ساز</b>\n",
    "</font>\n",
    "</h2>\n",
    "\n",
    "\n",
    "<p dir=rtl style=\"direction: rtl; text-align: justify; line-height:200%; font-family:vazir; font-size:medium\">\n",
    "<font face=\"vazir\" size=3>\n",
    "    برای ساخته‌شدن فایل <code>result.zip</code> سلول زیر را اجرا کنید. توجه داشته باشید که پیش از اجرای سلول زیر تغییرات اعمال شده در نت‌بوک را ذخیره کرده باشید (<code>ctrl+s</code>) تا در صورت نیاز به پشتیبانی امکان بررسی کد شما وجود داشته باشد.\n",
    "</font>\n",
    "</p>\n",
    "\n"
   ]
  },
  {
   "cell_type": "code",
   "execution_count": null,
   "metadata": {},
   "outputs": [],
   "source": [
    "import zipfile \n",
    "from inspect import getsource\n",
    "\n",
    "%save solve getsource(solve)\n",
    "\n",
    "def compress(file_names):\n",
    "    print(\"File Paths:\")\n",
    "    print(file_names)\n",
    "    # Select the compression mode ZIP_DEFLATED for compression\n",
    "    # or zipfile.ZIP_STORED to just store the file\n",
    "    compression = zipfile.ZIP_DEFLATED\n",
    "    # create the zip file first parameter path/name, second mode\n",
    "    with zipfile.ZipFile(\"result.zip\", mode=\"w\") as zf:\n",
    "        for file_name in file_names:\n",
    "            # Add file to the zip file\n",
    "            # first parameter file to zip, second filename in zip\n",
    "            zf.write('./' + file_name, file_name, compress_type=compression)\n",
    "\n",
    "file_names = [\"solve.py\", \"heritage.ipynb\"]\n",
    "compress(file_names)"
   ]
  }
 ],
 "metadata": {
  "kernelspec": {
   "display_name": "qenv",
   "language": "python",
   "name": "python3"
  },
  "language_info": {
   "name": "python",
   "version": "3.9.13"
  },
  "orig_nbformat": 4
 },
 "nbformat": 4,
 "nbformat_minor": 2
}
