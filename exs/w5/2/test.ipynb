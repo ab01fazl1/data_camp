{
 "cells": [
  {
   "cell_type": "code",
   "execution_count": 9,
   "metadata": {
    "collapsed": true,
    "ExecuteTime": {
     "start_time": "2023-05-10T09:01:21.238215Z",
     "end_time": "2023-05-10T09:01:21.257841Z"
    }
   },
   "outputs": [
    {
     "name": "stdout",
     "output_type": "stream",
     "text": [
      "(0.18, 45.97520511987084, 51.0068390353718, 50.366647300011174)\n"
     ]
    }
   ],
   "source": [
    "import numpy as np\n",
    "\n",
    "def allocate_money(n, lows, highs):\n",
    "    # Sample values for each kid from a uniform distribution\n",
    "    samples = np.random.uniform(low=lows, high=highs, size=(n, len(lows)))\n",
    "\n",
    "    # Calculate the total sampled value for each round of sampling\n",
    "    totals = np.sum(samples, axis=1)\n",
    "\n",
    "    # Calculate the probability that the total sampled value is less than n\n",
    "    p = np.mean(totals < n)\n",
    "\n",
    "    # Calculate the expected value for each kid\n",
    "    ev = np.mean(samples, axis=0)\n",
    "\n",
    "    # Return the results as a tuple\n",
    "    return (p, ev[0], ev[1], ev[2])\n",
    "\n",
    "n = 100\n",
    "lows = np.array([0, 0, 0])\n",
    "highs = np.array([100, 100, 100])\n",
    "\n",
    "print(allocate_money(n, lows, highs))"
   ]
  }
 ],
 "metadata": {
  "kernelspec": {
   "display_name": "Python 3",
   "language": "python",
   "name": "python3"
  },
  "language_info": {
   "codemirror_mode": {
    "name": "ipython",
    "version": 2
   },
   "file_extension": ".py",
   "mimetype": "text/x-python",
   "name": "python",
   "nbconvert_exporter": "python",
   "pygments_lexer": "ipython2",
   "version": "2.7.6"
  }
 },
 "nbformat": 4,
 "nbformat_minor": 0
}
