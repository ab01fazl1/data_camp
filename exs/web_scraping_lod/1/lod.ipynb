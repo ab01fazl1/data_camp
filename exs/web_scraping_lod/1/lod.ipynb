{
 "cells": [
  {
   "cell_type": "code",
   "execution_count": 17,
   "metadata": {
    "collapsed": true,
    "ExecuteTime": {
     "start_time": "2023-04-21T06:36:02.536883Z",
     "end_time": "2023-04-21T06:36:07.376796Z"
    }
   },
   "outputs": [],
   "source": [
    "import pandas as pd\n",
    "from bs4 import BeautifulSoup\n",
    "import requests\n",
    "\n",
    "columns = ['title', 'director', 'writers', 'running_time', 'budget', 'box_office']\n",
    "\n",
    "df = pd.DataFrame(columns=columns)\n",
    "urls = [\"https://en.wikipedia.org/wiki/The_Lord_of_the_Rings:_The_Fellowship_of_the_Ring\",\n",
    "        'https://en.wikipedia.org/wiki/The_Lord_of_the_Rings:_The_Two_Towers',\n",
    "        'https://en.wikipedia.org/wiki/The_Lord_of_the_Rings:_The_Return_of_the_King']\n",
    "\n",
    "for u in urls:\n",
    "\n",
    "    page = requests.get(u)\n",
    "\n",
    "    soup = BeautifulSoup(page.content, \"html.parser\")\n",
    "\n",
    "    units = {'million':1_000_000, 'billion':1_000_000_000}\n",
    "\n",
    "    def convert(splitted_ls):\n",
    "        return float(splitted_ls[0]) * units[splitted_ls[1][:-3]]\n",
    "\n",
    "    df2 = {\n",
    "        'title' : soup.find(id='firstHeading').text,\n",
    "        'director' : soup.find('th', string='Directed by').findNext('td').findChild('a').text,\n",
    "        'writers' : soup.find('th', string='Screenplay by').findNext('td').text.strip().split('\\n'),\n",
    "        'running_time' : int(soup.find('th', string='Running time').findNext('td').text.split()[0]),\n",
    "        'budget' : convert(soup.find('th', string='Budget').findNext('td').text.replace('$','').split()),\n",
    "        'box_office' : convert(soup.find('th', string='Box office').findNext('td').text.replace('$','').split()),\n",
    "    }\n",
    "\n",
    "    df.loc[len(df)] = df2.values()\n",
    "\n",
    "df.to_json('lotr.json', orient='records')"
   ]
  }
 ],
 "metadata": {
  "kernelspec": {
   "display_name": "Python 3",
   "language": "python",
   "name": "python3"
  },
  "language_info": {
   "codemirror_mode": {
    "name": "ipython",
    "version": 2
   },
   "file_extension": ".py",
   "mimetype": "text/x-python",
   "name": "python",
   "nbconvert_exporter": "python",
   "pygments_lexer": "ipython2",
   "version": "2.7.6"
  }
 },
 "nbformat": 4,
 "nbformat_minor": 0
}
