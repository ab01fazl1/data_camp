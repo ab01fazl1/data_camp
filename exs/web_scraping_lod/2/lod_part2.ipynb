{
 "cells": [
  {
   "cell_type": "code",
   "execution_count": 2,
   "metadata": {
    "collapsed": true,
    "ExecuteTime": {
     "start_time": "2023-04-27T04:50:31.721876Z",
     "end_time": "2023-04-27T04:50:31.733921Z"
    }
   },
   "outputs": [],
   "source": [
    "'''\n",
    "hello im ab01fazl\n",
    "ive written comprehensive comments for you\n",
    "if you want to test the file just simply run every cell\n",
    "and if you want to get the output uncomment the last line\n",
    "happy hacking !!!\n",
    "'''\n",
    "\n",
    "import pandas as pd\n",
    "from bs4 import BeautifulSoup\n",
    "import requests"
   ]
  },
  {
   "cell_type": "code",
   "execution_count": 4,
   "outputs": [],
   "source": [
    "urls = [\"https://en.wikipedia.org/wiki/The_Lord_of_the_Rings:_The_Fellowship_of_the_Ring\",\n",
    "        'https://en.wikipedia.org/wiki/The_Lord_of_the_Rings:_The_Two_Towers',\n",
    "        'https://en.wikipedia.org/wiki/The_Lord_of_the_Rings:_The_Return_of_the_King',\n",
    "        'https://en.wikipedia.org/wiki/The_Lord_of_the_Rings:_The_Rings_of_Power']\n"
   ],
   "metadata": {
    "collapsed": false,
    "ExecuteTime": {
     "start_time": "2023-04-27T04:50:33.232795Z",
     "end_time": "2023-04-27T04:50:33.271529Z"
    }
   }
  },
  {
   "cell_type": "code",
   "execution_count": 7,
   "outputs": [],
   "source": [
    "columns = ['title', 'actor', 'role']\n",
    "df = pd.DataFrame(columns=columns)\n",
    "\n",
    "# update df\n",
    "def add_to_df(row):\n",
    "        df.loc[len(df)] = row.values()\n",
    "\n",
    "\n",
    "# i seperated this chunk of code into its own function (DRY rule)\n",
    "def extract(cast):\n",
    "        # loop the cast and get li`s and get the text before the ':'\n",
    "        for i in cast:\n",
    "                name = i.text.split(':')[0]\n",
    "                splitted = name.split(' as ')\n",
    "\n",
    "                # special cases that i couldnt handle with split\n",
    "                if splitted[0] == 'Andy Serkis':\n",
    "                        splitted[1] = 'Gollum'\n",
    "\n",
    "                if splitted[0] == 'Joseph Mawle (season 1) and Sam Hazeldine (season 2)':\n",
    "                        splitted[0] = 'Joseph Mawle'\n",
    "                        df2 = {\n",
    "                                'title': soup.find(id='firstHeading').text,\n",
    "                                'actor': 'Sam Hazeldine',\n",
    "                                'role': 'Adar'\n",
    "                        }\n",
    "                        add_to_df(df2)\n",
    "\n",
    "                # and the standard cases\n",
    "                if len(splitted) == 2:\n",
    "                        df2 = {\n",
    "                                'title': soup.find(id='firstHeading').text,\n",
    "                                'actor': splitted[0],\n",
    "                                'role': splitted[1]\n",
    "                        }\n",
    "                        add_to_df(df2)\n",
    "\n",
    "for u in urls:\n",
    "        page = requests.get(u)\n",
    "        soup = BeautifulSoup(page.content, \"html.parser\")\n",
    "\n",
    "        # get the cast element\n",
    "        # in the rings of power the element id is different\n",
    "        if u == urls[-1]:\n",
    "                cast = soup.find(id='Cast_and_characters').parent.findNext('ul').findAll('li')\n",
    "        else:\n",
    "                cast = soup.find(id='Cast').parent.findNext('ul').findAll('li')\n",
    "\n",
    "        extract(cast)\n",
    "\n",
    "# the cast also includes in the fellowship of the ring\n",
    "page = requests.get(urls[0])\n",
    "soup = BeautifulSoup(page.content, \"html.parser\")\n",
    "also_cast = soup.find(id='Cast').parent.findNext('ul').find_next('ul')\n",
    "extract(also_cast)\n",
    "\n",
    "\n",
    "# df\n",
    "df.to_csv('lotr_casts.csv', index=False)"
   ],
   "metadata": {
    "collapsed": false,
    "ExecuteTime": {
     "start_time": "2023-04-27T04:53:47.898665Z",
     "end_time": "2023-04-27T04:53:55.318272Z"
    }
   }
  }
 ],
 "metadata": {
  "kernelspec": {
   "display_name": "Python 3",
   "language": "python",
   "name": "python3"
  },
  "language_info": {
   "codemirror_mode": {
    "name": "ipython",
    "version": 2
   },
   "file_extension": ".py",
   "mimetype": "text/x-python",
   "name": "python",
   "nbconvert_exporter": "python",
   "pygments_lexer": "ipython2",
   "version": "2.7.6"
  }
 },
 "nbformat": 4,
 "nbformat_minor": 0
}
