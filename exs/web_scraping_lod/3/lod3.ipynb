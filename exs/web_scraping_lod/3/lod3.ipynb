{
 "cells": [
  {
   "cell_type": "code",
   "execution_count": 2,
   "metadata": {
    "collapsed": true,
    "ExecuteTime": {
     "start_time": "2023-04-28T04:06:59.729934Z",
     "end_time": "2023-04-28T04:06:59.741057Z"
    }
   },
   "outputs": [],
   "source": [
    "import pandas as pd\n",
    "import requests\n",
    "from bs4 import BeautifulSoup"
   ]
  },
  {
   "cell_type": "code",
   "execution_count": 5,
   "outputs": [],
   "source": [
    "df = pd.read_csv('../2/lotr_casts.csv')\n",
    "\n",
    "roles_by_title = df.groupby('title')['role'].apply(set)\n",
    "common_roles = set.intersection(*roles_by_title)\n",
    "mask = df['role'].isin(common_roles)\n",
    "df_top_roles = df[mask]\n",
    "df_top_roles.to_csv('lotr_top_roles.csv', index=False)"
   ],
   "metadata": {
    "collapsed": false,
    "ExecuteTime": {
     "start_time": "2023-04-28T04:07:07.877722Z",
     "end_time": "2023-04-28T04:07:07.924434Z"
    }
   }
  },
  {
   "cell_type": "code",
   "execution_count": 7,
   "outputs": [],
   "source": [
    "actor_counts = df.groupby('actor')['title'].nunique()\n",
    "common_actors = actor_counts[actor_counts >= 3].index.tolist()"
   ],
   "metadata": {
    "collapsed": false,
    "ExecuteTime": {
     "start_time": "2023-04-28T04:07:09.883943Z",
     "end_time": "2023-04-28T04:07:09.920575Z"
    }
   }
  },
  {
   "cell_type": "code",
   "execution_count": 12,
   "outputs": [
    {
     "name": "stdout",
     "output_type": "stream",
     "text": [
      "<dd>\"<i>They're only scorned because they're into something popular. But it's just the same as supporting a football team or being madly into Picasso or Brahms. And it's certainly a lot more fun than chess.</i>\"</dd>\n",
      "<dd>\"<i>This must be totally bizarre to them. I mean, at least when I look up at them I see <a href=\"/wiki/Frodo_Baggins\" title=\"Frodo Baggins\">Frodo</a> and <a href=\"/wiki/Samwise_Gamgee\" title=\"Samwise Gamgee\">Sam</a>, and I just play off them, but when they look at me, all they must see is a man in a gimp suit, with a face that makes Jim Carrey's look relaxed and a voice that sounds like a cat being sick.</i>\"</dd>\n"
     ]
    }
   ],
   "source": [
    "url = 'https://tolkiengateway.net/wiki/'\n",
    "quote = []\n",
    "df_quotes = pd.DataFrame()\n",
    "\n",
    "# for a in common_actors:\n",
    "#     page = requests.get(url + a.replace(' ','_'))\n",
    "#     soup = BeautifulSoup(page.content, \"html.parser\")\n",
    "#     q = soup.find('dl').find_all('i')\n",
    "#     for i in q:\n",
    "#         print(i.text)\n",
    "a = common_actors[0]\n",
    "page = requests.get(url + a.replace(' ','_'))\n",
    "soup = BeautifulSoup(page.content, \"html.parser\")\n",
    "q = soup.findAll('dd')\n",
    "for i in q:\n",
    "    if i.text.startswith('\"'):\n",
    "        print(i)\n",
    "    # if i.text[0] != '\"':\n",
    "    # print(i.find('i').text)\n",
    "# print(q)"
   ],
   "metadata": {
    "collapsed": false,
    "ExecuteTime": {
     "start_time": "2023-04-28T04:09:16.209939Z",
     "end_time": "2023-04-28T04:09:17.630486Z"
    }
   }
  }
 ],
 "metadata": {
  "kernelspec": {
   "display_name": "Python 3",
   "language": "python",
   "name": "python3"
  },
  "language_info": {
   "codemirror_mode": {
    "name": "ipython",
    "version": 2
   },
   "file_extension": ".py",
   "mimetype": "text/x-python",
   "name": "python",
   "nbconvert_exporter": "python",
   "pygments_lexer": "ipython2",
   "version": "2.7.6"
  }
 },
 "nbformat": 4,
 "nbformat_minor": 0
}
